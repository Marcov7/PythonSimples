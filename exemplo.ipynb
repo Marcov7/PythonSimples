{
 "cells": [
  {
   "cell_type": "markdown",
   "id": "baf9917d",
   "metadata": {},
   "source": [
    "Aprendendo python"
   ]
  },
  {
   "cell_type": "code",
   "execution_count": 5,
   "id": "82bae463",
   "metadata": {},
   "outputs": [
    {
     "data": {
      "text/plain": [
       "46756111111111117"
      ]
     },
     "execution_count": 5,
     "metadata": {},
     "output_type": "execute_result"
    }
   ],
   "source": [
    "58799+5+999\n",
    "45645000000000006+1111111111111111"
   ]
  },
  {
   "cell_type": "code",
   "execution_count": 7,
   "id": "b480e297-a5f9-4ab6-9728-1fd0dad1809d",
   "metadata": {},
   "outputs": [
    {
     "data": {
      "text/plain": [
       "'65463463411111111111111111'"
      ]
     },
     "execution_count": 7,
     "metadata": {},
     "output_type": "execute_result"
    }
   ],
   "source": [
    "\"654634634\" + \"11111111111111111\"\n"
   ]
  },
  {
   "cell_type": "code",
   "execution_count": null,
   "id": "64f6ed9e-d034-406f-9ea1-41e95f13b3bc",
   "metadata": {},
   "outputs": [],
   "source": []
  }
 ],
 "metadata": {
  "kernelspec": {
   "display_name": "Python 3",
   "language": "python",
   "name": "python3"
  },
  "language_info": {
   "codemirror_mode": {
    "name": "ipython",
    "version": 3
   },
   "file_extension": ".py",
   "mimetype": "text/x-python",
   "name": "python",
   "nbconvert_exporter": "python",
   "pygments_lexer": "ipython3",
   "version": "3.13.4"
  }
 },
 "nbformat": 4,
 "nbformat_minor": 5
}
